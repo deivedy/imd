{
  "nbformat": 4,
  "nbformat_minor": 0,
  "metadata": {
    "colab": {
      "name": "Copy of AA03.ipynb",
      "version": "0.3.2",
      "provenance": [],
      "collapsed_sections": [],
      "include_colab_link": true
    },
    "kernelspec": {
      "name": "python3",
      "display_name": "Python 3"
    }
  },
  "cells": [
    {
      "cell_type": "markdown",
      "metadata": {
        "id": "view-in-github",
        "colab_type": "text"
      },
      "source": [
        "<a href=\"https://colab.research.google.com/github/deivedy/imd/blob/master/Copy_of_AA03.ipynb\" target=\"_parent\"><img src=\"https://colab.research.google.com/assets/colab-badge.svg\" alt=\"Open In Colab\"/></a>"
      ]
    },
    {
      "cell_type": "markdown",
      "metadata": {
        "id": "RAbwzSq3cfq6",
        "colab_type": "text"
      },
      "source": [
        "# Atividade Avaliativa da 3ª Unidade de Pensamento Computacional - IMD\n",
        "Prof. Carlos Eduardo de Barros Santos Júnior\n",
        "\n",
        "Monitor Danilo Galvão"
      ]
    },
    {
      "cell_type": "markdown",
      "metadata": {
        "id": "1N9LYZpJd6Dr",
        "colab_type": "text"
      },
      "source": [
        "**Responda o notebook, faça o download (formato .ipynb) e submeta na tarefa correspondente no SIGAA**"
      ]
    },
    {
      "cell_type": "markdown",
      "metadata": {
        "id": "7lLHqb6Bd020",
        "colab_type": "text"
      },
      "source": [
        "**Questão 01**\n",
        "\n",
        "Sistemas de frente de loja também devem auxiliar vendedores a dar trocos. Vamos considerar apenas os trocos com valores menores que um real, ou seja, considerem apenas as moedas.\n",
        "\n",
        "\n",
        "Escreva um código Python que leia um valor de troco e informe quantas cédulas de cada valor devem ser entregues pelo vendedor ao cliente.\n",
        "\n",
        "**Obs.:** Considere que ainda existem notas de R$ 1,00."
      ]
    },
    {
      "cell_type": "markdown",
      "metadata": {
        "id": "1JBrqSxRdtaU",
        "colab_type": "text"
      },
      "source": [
        "|.| Entrada | Saída |\n",
        "|-|----|---|\n",
        "| *Exemplo 1* | 0,75 | 1 moeda(s) de 0,50 <br /> 1 moeda(s) de 0,25 <br /> 0 moeda(s) de 0,10 <br /> 0 moeda(s) de 0,05 <br /> 0 moeda(s) de 0,01 |\n",
        "| *Exemplo 2* | 0,28 | 0 moeda(s) de 0,50 <br /> 1 moeda(s) de 0,25 <br /> 0 moeda(s) de 0,10 <br /> 0 moeda(s) de 0,05 <br /> 3 moeda(s) de 0,01 |\n",
        "| *Exemplo 3* | 0,99 | 1 moeda(s) de 0,50 <br /> 1 moeda(s) de 0,25 <br /> 2 moeda(s) de 0,10 <br /> 0 moeda(s) de 0,05 <br /> 4 moeda(s) de 0,01 |"
      ]
    },
    {
      "cell_type": "code",
      "metadata": {
        "id": "GnnB9uSuh1OH",
        "colab_type": "code",
        "outputId": "de606c9a-51fd-4c83-b786-cf758fe0685b",
        "colab": {
          "base_uri": "https://localhost:8080/",
          "height": 204
        }
      },
      "source": [
        "# RESPOSTA QUESTÃO 01\n",
        "\n",
        "troco=float(input(\"Digite o valor do troco \"))\n",
        "resto=troco*100\n",
        "\n",
        "m1=0\n",
        "m5=0\n",
        "m10=0\n",
        "m25=0\n",
        "m50=0\n",
        "print(resto/100)\n",
        "\n",
        "m50=int(resto/50)\n",
        "print(m50, \"Moedas de 0,50\")\n",
        "\n",
        "resto=int(resto-m50*50)\n",
        "\n",
        "print(resto)\n",
        "m25=int(resto/25)\n",
        "print(m25, \"Moedas de 0,25\")\n",
        "\n",
        "resto=int(resto-m25*25)\n",
        "\n",
        "print(resto)\n",
        "m10=int(resto/10)\n",
        "print (m10, \"Moedas de 0,10\")\n",
        "\n",
        "resto=int(resto-m10*10)\n",
        "\n",
        "print(resto)\n",
        "m5=int(resto/5)\n",
        "print (m5, \"Moedas de 0,05\")\n",
        "\n",
        "resto=int(resto-m5*5)\n",
        "\n",
        "print(resto)\n",
        "m1=int(resto/1)\n",
        "print (m1, \"Moedas de 0,01\")\n",
        "\n",
        "\n",
        "\n",
        "\n",
        "\n",
        "\n"
      ],
      "execution_count": 0,
      "outputs": [
        {
          "output_type": "stream",
          "text": [
            "Digite o valor do troco 0.99\n",
            "0.99\n",
            "1 Moedas de 0,50\n",
            "49\n",
            "1 Moedas de 0,25\n",
            "24\n",
            "2 Moedas de 0,10\n",
            "4\n",
            "0 Moedas de 0,05\n",
            "4\n",
            "4 Moedas de 0,01\n"
          ],
          "name": "stdout"
        }
      ]
    },
    {
      "cell_type": "markdown",
      "metadata": {
        "id": "qdxZSXhOhtaw",
        "colab_type": "text"
      },
      "source": [
        "**Questão 02** \n",
        "\n",
        "Em sistemas de computação gráfica, compreender diferentes sistemas de coordenadas é fundamental.\n",
        "\n",
        "Considere o sistema de coordenadas cartesiano apresentado na figura abaixo. Ele serve para representar pontos que apresentam duas dimensões, normalmente representados com a notação (x, y), onde x representa a coordenada horizontal e y a vertical.\n",
        "\n",
        "<img src=\"https://github.com/leobezerra/python-zero/blob/master/imgs/UOJ_1041.png?raw=1\">\n",
        "\n",
        "O ponto (0,0) representa a origem dos eixos e é a intersecção entre as quatro subregiões ilustradas na figura abaixo (Q1, Q2, Q3 e Q4, onde Q significa *quadrante*, isto é, uma subregião). Cada quadrante da figura representa pontos com as seguintes características:\n",
        "\n",
        "| Quadrante | Horizontal | Vertical |\n",
        "|:-:|:-:|:-:|\n",
        "| Q1 | x > 0 | y > 0 |\n",
        "| Q2 | x < 0 | y > 0 |\n",
        "| Q3 | x < 0 | y < 0 |\n",
        "| Q4 | x > 0 | y < 0 |\n",
        "\n",
        "Também é possível que um ponto esteja sobre um dos eixos:\n",
        "* Um ponto estará sobre o eixo x se y = 0;\n",
        "* Um ponto estará sobre o eixo y se x = 0.\n",
        "\n",
        "Considerando este contexto, escreva um código Python que leia um ponto (duas coordenadas reais) e informe a primeira condição abaixo que se mostrar verdadeira:\n",
        "* Se o ponto está na \"Origem\";\n",
        "* Se o ponto está sobre o \"Eixo X\";\n",
        "* Se o ponto está sobre o \"Eixo Y\";\n",
        "* Em qual quadrante o ponto está."
      ]
    },
    {
      "cell_type": "code",
      "metadata": {
        "id": "uina6WBRduw5",
        "colab_type": "code",
        "outputId": "a5b9e4cf-c13c-4296-e133-a4be41e09777",
        "colab": {
          "base_uri": "https://localhost:8080/",
          "height": 68
        }
      },
      "source": [
        "# RESPOSTA QUESTÃO 02\n",
        "\n",
        "x=float(input(\"Digite o X\"))\n",
        "y=float(input(\"Digite o y\"))\n",
        "\n",
        "if x==0 and y==0:\n",
        "    print( \"Origem\")\n",
        "\n",
        "elif x==0:\n",
        "      print(\"Eixo X\")\n",
        "    \n",
        "elif y==0:\n",
        "      print(\"Eixo y\")\n",
        "    \n",
        "else:\n",
        "        if x>0 and y>0:\n",
        "           print(\"Q1\")\n",
        "        \n",
        "        elif x>0 and y<0:\n",
        "          print(\"Q4\")\n",
        "        \n",
        "        elif x<0 and y>0:\n",
        "          print(\"Q2\")\n",
        "        \n",
        "        elif x<0 and y<0:\n",
        "          print(\"Q3\")  \n",
        "      \n",
        "            "
      ],
      "execution_count": 0,
      "outputs": [
        {
          "output_type": "stream",
          "text": [
            "Digite o X0\n",
            "Digite o y0\n",
            "Origem\n"
          ],
          "name": "stdout"
        }
      ]
    },
    {
      "cell_type": "markdown",
      "metadata": {
        "id": "oajr8pYhLHo9",
        "colab_type": "text"
      },
      "source": [
        "**Questão 03**\n",
        "\n",
        "\n",
        "Zerinho ou um é um jogo simples que envolve apenas quatro regras:\n",
        "\n",
        "- Três ou mais jogadores disputam entre si, podendo escolher entre 2 opções de ação: 0 ou 1.\n",
        "- O jogo consiste em lançar a mão (como 0 ou 1) na hora do comando.\n",
        "- Vence aquele que colocou o valor diferente dos demais.\n",
        "- Se o jogador 2 coloca 1 e os demais 0, o jogador 2 sai como vencedor.\n",
        "\n",
        "\n",
        "Escreva um código Python que receba um inteiro informando número de rodadas de uma partida e simule três jogadores competindo entre si. Você deve imprimir as ações e o vencedor de cada rodada, bem como o vencedor da partida."
      ]
    },
    {
      "cell_type": "markdown",
      "metadata": {
        "id": "q3_zCOLsL_s0",
        "colab_type": "text"
      },
      "source": [
        "|.| Entrada | Saída |\n",
        "|-|:-:|:-|\n",
        "| *Exemplo 1* | 3  | Jogador 2 <br/> Empate <br/> Jogador 2 <br/> Placar final: 0 x 2 <br/> Partida vencida pelo Jogador 2! | \n",
        "| *Exemplo 2* | 5 | Jogador 1 <br/> Jogador 1 <br/> Empate <br/> Empate <br/> Jogador 1 <br/> Placar final: 3 x 0 <br/> Partida vencida pelo Jogador 1! |\n",
        "| *Exemplo 3* | 4 | Empate <br/> Jogador 2 <br/> Empate <br/> Empate <br/> Placar final: 0 x 1 <br/> Partida vencida pelo Jogador 2! |"
      ]
    },
    {
      "cell_type": "code",
      "metadata": {
        "id": "O0qKgQcsL-vE",
        "colab_type": "code",
        "outputId": "1a2aa1ca-730e-4966-bf40-9cf174e4cdbc",
        "colab": {
          "base_uri": "https://localhost:8080/",
          "height": 68
        }
      },
      "source": [
        "# RESPOSTA QUESTÃO 03\n",
        "from random import randint\n",
        "\n",
        "\n",
        "\n",
        "n=int(input(\"Digite o numero de rodadas \"))\n",
        "i=0\n",
        "for i in range(0,i+1,1):\n",
        "  j1=randint(0,1)\n",
        "  j2=randint(0,1)\n",
        "  j3=randint(0,1)\n",
        "  \n",
        "  if j1==j2 and j3!=j1:\n",
        "    print(\"Jogador 3\")\n",
        "  if j1==j3 and j2!=j1:\n",
        "    print(\"Jogador 2\")\n",
        "  if j3==j2 and j3!=j1:\n",
        "    print(\"Jogador 1\")  \n",
        "  if j2==1 and j3==j3==0:\n",
        "    print(\"Jogador 2\")\n",
        "  else:\n",
        "    print(\"Empate \")\n",
        "  i=1+i  \n",
        "    \n",
        "  \n",
        "    \n",
        "\n",
        "\n"
      ],
      "execution_count": 0,
      "outputs": [
        {
          "output_type": "stream",
          "text": [
            "Digite o numero de rodadas 3\n",
            "Jogador 1\n",
            "Empate \n"
          ],
          "name": "stdout"
        }
      ]
    },
    {
      "cell_type": "markdown",
      "metadata": {
        "id": "5u5I8RB3MNjK",
        "colab_type": "text"
      },
      "source": [
        "**Questão 04**\t\n",
        "\n",
        "Elabore uma função que receba três notas de um aluno como parâmetro e uma letra. \n",
        "\n",
        "Se a letra for ‘A’, a função deve calcular a média aritmética das notas do aluno; se a letra for ‘P’, deverá calcular a média ponderada, com pesos 5, 3 e 2. \n",
        "\n",
        "Retorne a média calculada para o programa principal "
      ]
    },
    {
      "cell_type": "code",
      "metadata": {
        "id": "fDZ-BSTLND-D",
        "colab_type": "code",
        "outputId": "14734187-9efa-4a48-a9fc-c86b6c612672",
        "colab": {
          "base_uri": "https://localhost:8080/",
          "height": 102
        }
      },
      "source": [
        "# RESPOSTA QUESTÃO 04\n",
        "\n",
        "\n",
        "n1=float(input(\"Digite nota 1 \"))\n",
        "n2=float(input(\"Digite nota 2 \"))\n",
        "n3=float(input(\"Digite nota 3 \"))\n",
        "L=input(\"Deseja calcular média A Aritmética ou P Ponderada?  \")\n",
        "\n",
        "arit=(n1+n2+n3)/3\n",
        "pond=(n1*5+n2*3+n3*2)/10\n",
        "\n",
        "if L.upper()=='P':\n",
        "    print(\"Media ponderada \", pond)\n",
        "\n",
        "elif L.upper()=='A':\n",
        "      print(\"Média aritmética\", arit)\n",
        "    \n",
        "else:\n",
        "      print(\"Letra inválida\")\n",
        "      \n",
        "    \n",
        "\n",
        "\n",
        "\n"
      ],
      "execution_count": 0,
      "outputs": [
        {
          "output_type": "stream",
          "text": [
            "Digite nota 1 10\n",
            "Digite nota 2 8\n",
            "Digite nota 3 7\n",
            "Deseja calcular média A Aritmética ou P Ponderada?  p\n",
            "Media ponderada  8.8\n"
          ],
          "name": "stdout"
        }
      ]
    },
    {
      "cell_type": "code",
      "metadata": {
        "id": "NjzL5cZrO3b5",
        "colab_type": "code",
        "colab": {}
      },
      "source": [
        ""
      ],
      "execution_count": 0,
      "outputs": []
    }
  ]
}